{
 "cells": [
  {
   "cell_type": "code",
   "execution_count": 1,
   "id": "40b19158",
   "metadata": {},
   "outputs": [],
   "source": [
    "import leafmap\n",
    "from samgeo import tms_to_geotiff\n",
    "from samgeo.text_sam import LangSAM"
   ]
  },
  {
   "cell_type": "code",
   "execution_count": null,
   "id": "8fe9878a",
   "metadata": {},
   "outputs": [],
   "source": [
    "sam = LangSAM()\n"
   ]
  },
  {
   "cell_type": "code",
   "execution_count": 6,
   "id": "3c570738",
   "metadata": {
    "scrolled": true
   },
   "outputs": [
    {
     "data": {
      "application/vnd.jupyter.widget-view+json": {
       "model_id": "b02e4174cb9c421bb59619481400a828",
       "version_major": 2,
       "version_minor": 0
      },
      "text/plain": [
       "Map(center=[-22.17615, -51.253043], controls=(ZoomControl(options=['position', 'zoom_in_text', 'zoom_in_title'…"
      ]
     },
     "execution_count": 6,
     "metadata": {},
     "output_type": "execute_result"
    }
   ],
   "source": [
    "m = leafmap.Map(center=[-22.17615, -51.253043], zoom=18, height=\"800px\")\n",
    "m.add_basemap(\"SATELLITE\")\n",
    "m"
   ]
  },
  {
   "cell_type": "code",
   "execution_count": 7,
   "id": "53b64bb5",
   "metadata": {},
   "outputs": [],
   "source": []
  },
  {
   "cell_type": "code",
   "execution_count": 8,
   "id": "e23d2e58",
   "metadata": {},
   "outputs": [
    {
     "name": "stdout",
     "output_type": "stream",
     "text": [
      "Downloaded image 01/45\n",
      "Downloaded image 02/45\n",
      "Downloaded image 03/45\n",
      "Downloaded image 04/45\n",
      "Downloaded image 05/45\n",
      "Downloaded image 06/45\n",
      "Downloaded image 07/45\n",
      "Downloaded image 08/45\n",
      "Downloaded image 09/45\n",
      "Downloaded image 10/45\n",
      "Downloaded image 11/45\n",
      "Downloaded image 12/45\n",
      "Downloaded image 13/45\n",
      "Downloaded image 14/45\n",
      "Downloaded image 15/45\n",
      "Downloaded image 16/45\n",
      "Downloaded image 17/45\n",
      "Downloaded image 18/45\n",
      "Downloaded image 19/45\n",
      "Downloaded image 20/45\n",
      "Downloaded image 21/45\n",
      "Downloaded image 22/45\n",
      "Downloaded image 23/45\n",
      "Downloaded image 24/45\n",
      "Downloaded image 25/45\n",
      "Downloaded image 26/45\n",
      "Downloaded image 27/45\n",
      "Downloaded image 28/45\n",
      "Downloaded image 29/45\n",
      "Downloaded image 30/45\n",
      "Downloaded image 31/45\n",
      "Downloaded image 32/45\n",
      "Downloaded image 33/45\n",
      "Downloaded image 34/45\n",
      "Downloaded image 35/45\n",
      "Downloaded image 36/45\n",
      "Downloaded image 37/45\n",
      "Downloaded image 38/45\n",
      "Downloaded image 39/45\n",
      "Downloaded image 40/45\n",
      "Downloaded image 41/45\n",
      "Downloaded image 42/45\n",
      "Downloaded image 43/45\n",
      "Downloaded image 44/45\n",
      "Downloaded image 45/45\n",
      "Saving GeoTIFF. Please wait...\n"
     ]
    },
    {
     "ename": "Exception",
     "evalue": "",
     "output_type": "error",
     "traceback": [
      "\u001b[1;31m---------------------------------------------------------------------------\u001b[0m",
      "\u001b[1;31mRuntimeError\u001b[0m                              Traceback (most recent call last)",
      "File \u001b[1;32m~\\anaconda3\\envs\\gpuaml\\lib\\site-packages\\samgeo\\common.py:582\u001b[0m, in \u001b[0;36mtms_to_geotiff\u001b[1;34m(output, bbox, zoom, resolution, source, crs, to_cog, return_image, overwrite, quiet, **kwargs)\u001b[0m\n\u001b[0;32m    581\u001b[0m \u001b[38;5;28;01mtry\u001b[39;00m:\n\u001b[1;32m--> 582\u001b[0m     image \u001b[38;5;241m=\u001b[39m draw_tile(\n\u001b[0;32m    583\u001b[0m         source, south, west, north, east, zoom, output, quiet, \u001b[38;5;241m*\u001b[39m\u001b[38;5;241m*\u001b[39mkwargs\n\u001b[0;32m    584\u001b[0m     )\n\u001b[0;32m    585\u001b[0m     \u001b[38;5;28;01mif\u001b[39;00m return_image:\n",
      "File \u001b[1;32m~\\anaconda3\\envs\\gpuaml\\lib\\site-packages\\samgeo\\common.py:556\u001b[0m, in \u001b[0;36mtms_to_geotiff.<locals>.draw_tile\u001b[1;34m(source, lat0, lon0, lat1, lon1, zoom, filename, quiet, **kwargs)\u001b[0m\n\u001b[0;32m    549\u001b[0m     kwargs[\u001b[38;5;124m\"\u001b[39m\u001b[38;5;124moptions\u001b[39m\u001b[38;5;124m\"\u001b[39m] \u001b[38;5;241m=\u001b[39m [\n\u001b[0;32m    550\u001b[0m         \u001b[38;5;124m\"\u001b[39m\u001b[38;5;124mCOMPRESS=DEFLATE\u001b[39m\u001b[38;5;124m\"\u001b[39m,\n\u001b[0;32m    551\u001b[0m         \u001b[38;5;124m\"\u001b[39m\u001b[38;5;124mPREDICTOR=2\u001b[39m\u001b[38;5;124m\"\u001b[39m,\n\u001b[0;32m    552\u001b[0m         \u001b[38;5;124m\"\u001b[39m\u001b[38;5;124mZLEVEL=9\u001b[39m\u001b[38;5;124m\"\u001b[39m,\n\u001b[0;32m    553\u001b[0m         \u001b[38;5;124m\"\u001b[39m\u001b[38;5;124mTILED=YES\u001b[39m\u001b[38;5;124m\"\u001b[39m,\n\u001b[0;32m    554\u001b[0m     ]\n\u001b[1;32m--> 556\u001b[0m gtiff \u001b[38;5;241m=\u001b[39m driver\u001b[38;5;241m.\u001b[39mCreate(\n\u001b[0;32m    557\u001b[0m     filename,\n\u001b[0;32m    558\u001b[0m     img\u001b[38;5;241m.\u001b[39msize[\u001b[38;5;241m0\u001b[39m],\n\u001b[0;32m    559\u001b[0m     img\u001b[38;5;241m.\u001b[39msize[\u001b[38;5;241m1\u001b[39m],\n\u001b[0;32m    560\u001b[0m     imgbands,\n\u001b[0;32m    561\u001b[0m     gdal\u001b[38;5;241m.\u001b[39mGDT_Byte,\n\u001b[0;32m    562\u001b[0m     \u001b[38;5;241m*\u001b[39m\u001b[38;5;241m*\u001b[39mkwargs,\n\u001b[0;32m    563\u001b[0m )\n\u001b[0;32m    564\u001b[0m xp0, yp0 \u001b[38;5;241m=\u001b[39m from4326_to3857(lat0, lon0)\n",
      "File \u001b[1;32m~\\anaconda3\\envs\\gpuaml\\lib\\site-packages\\osgeo\\gdal.py:2273\u001b[0m, in \u001b[0;36mDriver.Create\u001b[1;34m(self, *args, **kwargs)\u001b[0m\n\u001b[0;32m   2272\u001b[0m \u001b[38;5;250m\u001b[39m\u001b[38;5;124mr\u001b[39m\u001b[38;5;124;03m\"\"\"Create(Driver self, char const * utf8_path, int xsize, int ysize, int bands=1, GDALDataType eType=GDT_Byte, char ** options=None) -> Dataset\"\"\"\u001b[39;00m\n\u001b[1;32m-> 2273\u001b[0m \u001b[38;5;28;01mreturn\u001b[39;00m _gdal\u001b[38;5;241m.\u001b[39mDriver_Create(\u001b[38;5;28mself\u001b[39m, \u001b[38;5;241m*\u001b[39margs, \u001b[38;5;241m*\u001b[39m\u001b[38;5;241m*\u001b[39mkwargs)\n",
      "\u001b[1;31mRuntimeError\u001b[0m: ",
      "\nDuring handling of the above exception, another exception occurred:\n",
      "\u001b[1;31mException\u001b[0m                                 Traceback (most recent call last)",
      "Cell \u001b[1;32mIn[8], line 2\u001b[0m\n\u001b[0;32m      1\u001b[0m image \u001b[38;5;241m=\u001b[39m \u001b[38;5;124m\"\u001b[39m\u001b[38;5;124mImage.tif\u001b[39m\u001b[38;5;124m\"\u001b[39m\n\u001b[1;32m----> 2\u001b[0m \u001b[43mtms_to_geotiff\u001b[49m\u001b[43m(\u001b[49m\u001b[43moutput\u001b[49m\u001b[38;5;241;43m=\u001b[39;49m\u001b[43mimage\u001b[49m\u001b[43m,\u001b[49m\u001b[43m \u001b[49m\u001b[43mbbox\u001b[49m\u001b[38;5;241;43m=\u001b[39;49m\u001b[43mbbox\u001b[49m\u001b[43m,\u001b[49m\u001b[43m \u001b[49m\u001b[43mzoom\u001b[49m\u001b[38;5;241;43m=\u001b[39;49m\u001b[38;5;241;43m19\u001b[39;49m\u001b[43m,\u001b[49m\u001b[43m \u001b[49m\u001b[43msource\u001b[49m\u001b[38;5;241;43m=\u001b[39;49m\u001b[38;5;124;43m\"\u001b[39;49m\u001b[38;5;124;43mSatellite\u001b[39;49m\u001b[38;5;124;43m\"\u001b[39;49m\u001b[43m,\u001b[49m\u001b[43m \u001b[49m\u001b[43moverwrite\u001b[49m\u001b[38;5;241;43m=\u001b[39;49m\u001b[38;5;28;43;01mTrue\u001b[39;49;00m\u001b[43m)\u001b[49m\n",
      "File \u001b[1;32m~\\anaconda3\\envs\\gpuaml\\lib\\site-packages\\samgeo\\common.py:592\u001b[0m, in \u001b[0;36mtms_to_geotiff\u001b[1;34m(output, bbox, zoom, resolution, source, crs, to_cog, return_image, overwrite, quiet, **kwargs)\u001b[0m\n\u001b[0;32m    590\u001b[0m         image_to_cog(output, output)\n\u001b[0;32m    591\u001b[0m \u001b[38;5;28;01mexcept\u001b[39;00m \u001b[38;5;167;01mException\u001b[39;00m \u001b[38;5;28;01mas\u001b[39;00m e:\n\u001b[1;32m--> 592\u001b[0m     \u001b[38;5;28;01mraise\u001b[39;00m \u001b[38;5;167;01mException\u001b[39;00m(e)\n",
      "\u001b[1;31mException\u001b[0m: "
     ]
    }
   ],
   "source": []
  },
  {
   "cell_type": "code",
   "execution_count": 9,
   "id": "1552cb62",
   "metadata": {},
   "outputs": [
    {
     "ename": "CRSError",
     "evalue": "The EPSG code is unknown. PROJ: proj_create_from_database: C:\\Users\\deepe\\anaconda3\\envs\\gpuaml\\Library\\share\\proj\\proj.db lacks DATABASE.LAYOUT.VERSION.MAJOR / DATABASE.LAYOUT.VERSION.MINOR metadata. It comes from another PROJ installation.",
     "output_type": "error",
     "traceback": [
      "\u001b[1;31m---------------------------------------------------------------------------\u001b[0m",
      "\u001b[1;31mCPLE_AppDefinedError\u001b[0m                      Traceback (most recent call last)",
      "File \u001b[1;32mrasterio\\crs.pyx:586\u001b[0m, in \u001b[0;36mrasterio.crs.CRS.from_epsg\u001b[1;34m()\u001b[0m\n",
      "File \u001b[1;32mrasterio\\_err.pyx:195\u001b[0m, in \u001b[0;36mrasterio._err.exc_wrap_int\u001b[1;34m()\u001b[0m\n",
      "\u001b[1;31mCPLE_AppDefinedError\u001b[0m: PROJ: proj_create_from_database: C:\\Users\\deepe\\anaconda3\\envs\\gpuaml\\Library\\share\\proj\\proj.db lacks DATABASE.LAYOUT.VERSION.MAJOR / DATABASE.LAYOUT.VERSION.MINOR metadata. It comes from another PROJ installation.",
      "\nDuring handling of the above exception, another exception occurred:\n",
      "\u001b[1;31mCRSError\u001b[0m                                  Traceback (most recent call last)",
      "Cell \u001b[1;32mIn[9], line 2\u001b[0m\n\u001b[0;32m      1\u001b[0m m\u001b[38;5;241m.\u001b[39mlayers[\u001b[38;5;241m-\u001b[39m\u001b[38;5;241m1\u001b[39m]\u001b[38;5;241m.\u001b[39mvisible \u001b[38;5;241m=\u001b[39m \u001b[38;5;28;01mFalse\u001b[39;00m\n\u001b[1;32m----> 2\u001b[0m \u001b[43mm\u001b[49m\u001b[38;5;241;43m.\u001b[39;49m\u001b[43madd_raster\u001b[49m\u001b[43m(\u001b[49m\u001b[43mimage\u001b[49m\u001b[43m,\u001b[49m\u001b[43m \u001b[49m\u001b[43mlayer_name\u001b[49m\u001b[38;5;241;43m=\u001b[39;49m\u001b[38;5;124;43m\"\u001b[39;49m\u001b[38;5;124;43mImage\u001b[39;49m\u001b[38;5;124;43m\"\u001b[39;49m\u001b[43m)\u001b[49m\n\u001b[0;32m      3\u001b[0m m\n",
      "File \u001b[1;32m~\\anaconda3\\envs\\gpuaml\\lib\\site-packages\\leafmap\\leafmap.py:1880\u001b[0m, in \u001b[0;36mMap.add_raster\u001b[1;34m(self, source, band, palette, vmin, vmax, nodata, attribution, layer_name, zoom_to_layer, **kwargs)\u001b[0m\n\u001b[0;32m   1848\u001b[0m \u001b[38;5;28;01mdef\u001b[39;00m \u001b[38;5;21madd_raster\u001b[39m(\n\u001b[0;32m   1849\u001b[0m     \u001b[38;5;28mself\u001b[39m,\n\u001b[0;32m   1850\u001b[0m     source,\n\u001b[1;32m   (...)\u001b[0m\n\u001b[0;32m   1859\u001b[0m     \u001b[38;5;241m*\u001b[39m\u001b[38;5;241m*\u001b[39mkwargs,\n\u001b[0;32m   1860\u001b[0m ):\n\u001b[0;32m   1861\u001b[0m \u001b[38;5;250m    \u001b[39m\u001b[38;5;124;03m\"\"\"Add a local raster dataset to the map.\u001b[39;00m\n\u001b[0;32m   1862\u001b[0m \u001b[38;5;124;03m        If you are using this function in JupyterHub on a remote server (e.g., Binder, Microsoft Planetary Computer) and\u001b[39;00m\n\u001b[0;32m   1863\u001b[0m \u001b[38;5;124;03m        if the raster does not render properly, try running the following code before calling this function:\u001b[39;00m\n\u001b[1;32m   (...)\u001b[0m\n\u001b[0;32m   1877\u001b[0m \u001b[38;5;124;03m        zoom_to_layer (bool, optional): Whether to zoom to the extent of the layer. Defaults to True.\u001b[39;00m\n\u001b[0;32m   1878\u001b[0m \u001b[38;5;124;03m    \"\"\"\u001b[39;00m\n\u001b[1;32m-> 1880\u001b[0m     tile_layer, tile_client \u001b[38;5;241m=\u001b[39m get_local_tile_layer(\n\u001b[0;32m   1881\u001b[0m         source,\n\u001b[0;32m   1882\u001b[0m         band\u001b[38;5;241m=\u001b[39mband,\n\u001b[0;32m   1883\u001b[0m         palette\u001b[38;5;241m=\u001b[39mpalette,\n\u001b[0;32m   1884\u001b[0m         vmin\u001b[38;5;241m=\u001b[39mvmin,\n\u001b[0;32m   1885\u001b[0m         vmax\u001b[38;5;241m=\u001b[39mvmax,\n\u001b[0;32m   1886\u001b[0m         nodata\u001b[38;5;241m=\u001b[39mnodata,\n\u001b[0;32m   1887\u001b[0m         attribution\u001b[38;5;241m=\u001b[39mattribution,\n\u001b[0;32m   1888\u001b[0m         layer_name\u001b[38;5;241m=\u001b[39mlayer_name,\n\u001b[0;32m   1889\u001b[0m         return_client\u001b[38;5;241m=\u001b[39m\u001b[38;5;28;01mTrue\u001b[39;00m,\n\u001b[0;32m   1890\u001b[0m         \u001b[38;5;241m*\u001b[39m\u001b[38;5;241m*\u001b[39mkwargs,\n\u001b[0;32m   1891\u001b[0m     )\n\u001b[0;32m   1893\u001b[0m     \u001b[38;5;28mself\u001b[39m\u001b[38;5;241m.\u001b[39madd(tile_layer)\n\u001b[0;32m   1895\u001b[0m     bounds \u001b[38;5;241m=\u001b[39m tile_client\u001b[38;5;241m.\u001b[39mbounds()  \u001b[38;5;66;03m# [ymin, ymax, xmin, xmax]\u001b[39;00m\n",
      "File \u001b[1;32m~\\anaconda3\\envs\\gpuaml\\lib\\site-packages\\leafmap\\common.py:2868\u001b[0m, in \u001b[0;36mget_local_tile_layer\u001b[1;34m(source, port, debug, projection, band, palette, vmin, vmax, nodata, attribution, tile_format, layer_name, return_client, **kwargs)\u001b[0m\n\u001b[0;32m   2865\u001b[0m     \u001b[38;5;28;01melse\u001b[39;00m:\n\u001b[0;32m   2866\u001b[0m         layer_name \u001b[38;5;241m=\u001b[39m \u001b[38;5;124m\"\u001b[39m\u001b[38;5;124mLocalTile_\u001b[39m\u001b[38;5;124m\"\u001b[39m \u001b[38;5;241m+\u001b[39m random_string(\u001b[38;5;241m3\u001b[39m)\n\u001b[1;32m-> 2868\u001b[0m tile_client \u001b[38;5;241m=\u001b[39m \u001b[43mTileClient\u001b[49m\u001b[43m(\u001b[49m\u001b[43msource\u001b[49m\u001b[43m,\u001b[49m\u001b[43m \u001b[49m\u001b[43mport\u001b[49m\u001b[38;5;241;43m=\u001b[39;49m\u001b[43mport\u001b[49m\u001b[43m,\u001b[49m\u001b[43m \u001b[49m\u001b[43mdebug\u001b[49m\u001b[38;5;241;43m=\u001b[39;49m\u001b[43mdebug\u001b[49m\u001b[43m)\u001b[49m\n\u001b[0;32m   2870\u001b[0m \u001b[38;5;28;01mif\u001b[39;00m tile_format \u001b[38;5;241m==\u001b[39m \u001b[38;5;124m\"\u001b[39m\u001b[38;5;124mipyleaflet\u001b[39m\u001b[38;5;124m\"\u001b[39m:\n\u001b[0;32m   2871\u001b[0m     tile_layer \u001b[38;5;241m=\u001b[39m get_leaflet_tile_layer(\n\u001b[0;32m   2872\u001b[0m         tile_client,\n\u001b[0;32m   2873\u001b[0m         port\u001b[38;5;241m=\u001b[39mport,\n\u001b[1;32m   (...)\u001b[0m\n\u001b[0;32m   2883\u001b[0m         \u001b[38;5;241m*\u001b[39m\u001b[38;5;241m*\u001b[39mkwargs,\n\u001b[0;32m   2884\u001b[0m     )\n",
      "File \u001b[1;32m~\\anaconda3\\envs\\gpuaml\\lib\\site-packages\\localtileserver\\client.py:908\u001b[0m, in \u001b[0;36mBaseTileClient.__init__\u001b[1;34m(self, filename, default_projection, port, debug, host, client_port, client_host, client_prefix, cors_all)\u001b[0m\n\u001b[0;32m    906\u001b[0m \u001b[38;5;28;01melif\u001b[39;00m \u001b[38;5;28misinstance\u001b[39m(filename, RasterioFileTileSource):\n\u001b[0;32m    907\u001b[0m     filename \u001b[38;5;241m=\u001b[39m filename\u001b[38;5;241m.\u001b[39m_getLargeImagePath()\n\u001b[1;32m--> 908\u001b[0m \u001b[38;5;28;43msuper\u001b[39;49m\u001b[43m(\u001b[49m\u001b[43m)\u001b[49m\u001b[38;5;241;43m.\u001b[39;49m\u001b[38;5;21;43m__init__\u001b[39;49m\u001b[43m(\u001b[49m\u001b[43mfilename\u001b[49m\u001b[38;5;241;43m=\u001b[39;49m\u001b[43mfilename\u001b[49m\u001b[43m,\u001b[49m\u001b[43m \u001b[49m\u001b[43mdefault_projection\u001b[49m\u001b[38;5;241;43m=\u001b[39;49m\u001b[43mdefault_projection\u001b[49m\u001b[43m)\u001b[49m\n\u001b[0;32m    909\u001b[0m app \u001b[38;5;241m=\u001b[39m AppManager\u001b[38;5;241m.\u001b[39mget_or_create_app(cors_all\u001b[38;5;241m=\u001b[39mcors_all)\n\u001b[0;32m    910\u001b[0m \u001b[38;5;28mself\u001b[39m\u001b[38;5;241m.\u001b[39m_key \u001b[38;5;241m=\u001b[39m launch_server(app, port\u001b[38;5;241m=\u001b[39mport, debug\u001b[38;5;241m=\u001b[39mdebug, host\u001b[38;5;241m=\u001b[39mhost)\n",
      "File \u001b[1;32m~\\anaconda3\\envs\\gpuaml\\lib\\site-packages\\localtileserver\\client.py:482\u001b[0m, in \u001b[0;36mLocalTileClient.__init__\u001b[1;34m(self, filename, default_projection)\u001b[0m\n\u001b[0;32m    476\u001b[0m \u001b[38;5;28;01mdef\u001b[39;00m \u001b[38;5;21m__init__\u001b[39m(\n\u001b[0;32m    477\u001b[0m     \u001b[38;5;28mself\u001b[39m,\n\u001b[0;32m    478\u001b[0m     filename: Union[pathlib\u001b[38;5;241m.\u001b[39mPath, \u001b[38;5;28mstr\u001b[39m],\n\u001b[0;32m    479\u001b[0m     default_projection: Optional[\u001b[38;5;28mstr\u001b[39m] \u001b[38;5;241m=\u001b[39m \u001b[38;5;124m\"\u001b[39m\u001b[38;5;124mEPSG:3857\u001b[39m\u001b[38;5;124m\"\u001b[39m,\n\u001b[0;32m    480\u001b[0m ):\n\u001b[0;32m    481\u001b[0m     \u001b[38;5;28msuper\u001b[39m()\u001b[38;5;241m.\u001b[39m\u001b[38;5;21m__init__\u001b[39m(filename, default_projection)\n\u001b[1;32m--> 482\u001b[0m     \u001b[38;5;28mself\u001b[39m\u001b[38;5;241m.\u001b[39m_tile_source \u001b[38;5;241m=\u001b[39m get_tile_source(\u001b[38;5;28mself\u001b[39m\u001b[38;5;241m.\u001b[39mfilename, \u001b[38;5;28;43mself\u001b[39;49m\u001b[38;5;241;43m.\u001b[39;49m\u001b[43mdefault_projection\u001b[49m)\n",
      "File \u001b[1;32m~\\anaconda3\\envs\\gpuaml\\lib\\site-packages\\localtileserver\\client.py:82\u001b[0m, in \u001b[0;36mBaseTileClientInterface.default_projection\u001b[1;34m(self)\u001b[0m\n\u001b[0;32m     79\u001b[0m \u001b[38;5;129m@property\u001b[39m\n\u001b[0;32m     80\u001b[0m \u001b[38;5;28;01mdef\u001b[39;00m \u001b[38;5;21mdefault_projection\u001b[39m(\u001b[38;5;28mself\u001b[39m):\n\u001b[0;32m     81\u001b[0m     \u001b[38;5;28;01mif\u001b[39;00m \u001b[38;5;28mself\u001b[39m\u001b[38;5;241m.\u001b[39m_default_projection \u001b[38;5;241m==\u001b[39m \u001b[38;5;124m\"\u001b[39m\u001b[38;5;124m\"\u001b[39m:\n\u001b[1;32m---> 82\u001b[0m         \u001b[38;5;28mself\u001b[39m\u001b[38;5;241m.\u001b[39m_default_projection \u001b[38;5;241m=\u001b[39m \u001b[38;5;124m\"\u001b[39m\u001b[38;5;124mEPSG:3857\u001b[39m\u001b[38;5;124m\"\u001b[39m \u001b[38;5;28;01mif\u001b[39;00m \u001b[38;5;28;43mself\u001b[39;49m\u001b[38;5;241;43m.\u001b[39;49m\u001b[43mis_geospatial\u001b[49m \u001b[38;5;28;01melse\u001b[39;00m \u001b[38;5;28;01mNone\u001b[39;00m\n\u001b[0;32m     83\u001b[0m     \u001b[38;5;28;01mreturn\u001b[39;00m \u001b[38;5;28mself\u001b[39m\u001b[38;5;241m.\u001b[39m_default_projection\n",
      "File \u001b[1;32m~\\anaconda3\\envs\\gpuaml\\lib\\site-packages\\localtileserver\\client.py:433\u001b[0m, in \u001b[0;36mBaseTileClientInterface.is_geospatial\u001b[1;34m(self)\u001b[0m\n\u001b[0;32m    430\u001b[0m \u001b[38;5;129m@property\u001b[39m\n\u001b[0;32m    431\u001b[0m \u001b[38;5;28;01mdef\u001b[39;00m \u001b[38;5;21mis_geospatial\u001b[39m(\u001b[38;5;28mself\u001b[39m):\n\u001b[0;32m    432\u001b[0m     \u001b[38;5;28;01mif\u001b[39;00m \u001b[38;5;28mself\u001b[39m\u001b[38;5;241m.\u001b[39m_is_geospatial \u001b[38;5;129;01mis\u001b[39;00m \u001b[38;5;28;01mNone\u001b[39;00m:\n\u001b[1;32m--> 433\u001b[0m         \u001b[38;5;28mself\u001b[39m\u001b[38;5;241m.\u001b[39m_is_geospatial \u001b[38;5;241m=\u001b[39m \u001b[38;5;28;43mself\u001b[39;49m\u001b[38;5;241;43m.\u001b[39;49m\u001b[43mmetadata\u001b[49m\u001b[43m(\u001b[49m\u001b[43mprojection\u001b[49m\u001b[38;5;241;43m=\u001b[39;49m\u001b[38;5;28;43;01mNone\u001b[39;49;00m\u001b[43m)\u001b[49m\u001b[38;5;241m.\u001b[39mget(\u001b[38;5;124m\"\u001b[39m\u001b[38;5;124mgeospatial\u001b[39m\u001b[38;5;124m\"\u001b[39m, \u001b[38;5;28;01mFalse\u001b[39;00m)\n\u001b[0;32m    434\u001b[0m     \u001b[38;5;28;01mreturn\u001b[39;00m \u001b[38;5;28mself\u001b[39m\u001b[38;5;241m.\u001b[39m_is_geospatial\n",
      "File \u001b[1;32m~\\anaconda3\\envs\\gpuaml\\lib\\site-packages\\localtileserver\\client.py:603\u001b[0m, in \u001b[0;36mLocalTileClient.metadata\u001b[1;34m(self, projection)\u001b[0m\n\u001b[0;32m    601\u001b[0m     \u001b[38;5;28;01mif\u001b[39;00m projection \u001b[38;5;241m==\u001b[39m \u001b[38;5;124m\"\u001b[39m\u001b[38;5;124m\"\u001b[39m:\n\u001b[0;32m    602\u001b[0m         projection \u001b[38;5;241m=\u001b[39m \u001b[38;5;28mself\u001b[39m\u001b[38;5;241m.\u001b[39mdefault_projection\n\u001b[1;32m--> 603\u001b[0m     tile_source \u001b[38;5;241m=\u001b[39m \u001b[43mget_tile_source\u001b[49m\u001b[43m(\u001b[49m\u001b[38;5;28;43mself\u001b[39;49m\u001b[38;5;241;43m.\u001b[39;49m\u001b[43mfilename\u001b[49m\u001b[43m,\u001b[49m\u001b[43m \u001b[49m\u001b[43mprojection\u001b[49m\u001b[43m)\u001b[49m\n\u001b[0;32m    604\u001b[0m     \u001b[38;5;28mself\u001b[39m\u001b[38;5;241m.\u001b[39m_metadata[projection] \u001b[38;5;241m=\u001b[39m get_meta_data(tile_source)\n\u001b[0;32m    605\u001b[0m \u001b[38;5;28;01mreturn\u001b[39;00m \u001b[38;5;28mself\u001b[39m\u001b[38;5;241m.\u001b[39m_metadata[projection]\n",
      "File \u001b[1;32m~\\anaconda3\\envs\\gpuaml\\lib\\site-packages\\localtileserver\\tiler\\utilities.py:72\u001b[0m, in \u001b[0;36mget_tile_source\u001b[1;34m(path, projection, style, encoding)\u001b[0m\n\u001b[0;32m     68\u001b[0m \u001b[38;5;28;01mdef\u001b[39;00m \u001b[38;5;21mget_tile_source\u001b[39m(\n\u001b[0;32m     69\u001b[0m     path: Union[pathlib\u001b[38;5;241m.\u001b[39mPath, \u001b[38;5;28mstr\u001b[39m], projection: \u001b[38;5;28mstr\u001b[39m \u001b[38;5;241m=\u001b[39m \u001b[38;5;28;01mNone\u001b[39;00m, style: \u001b[38;5;28mstr\u001b[39m \u001b[38;5;241m=\u001b[39m \u001b[38;5;28;01mNone\u001b[39;00m, encoding: \u001b[38;5;28mstr\u001b[39m \u001b[38;5;241m=\u001b[39m \u001b[38;5;124m\"\u001b[39m\u001b[38;5;124mPNG\u001b[39m\u001b[38;5;124m\"\u001b[39m\n\u001b[0;32m     70\u001b[0m ) \u001b[38;5;241m-\u001b[39m\u001b[38;5;241m>\u001b[39m RasterioFileTileSource:\n\u001b[0;32m     71\u001b[0m     path \u001b[38;5;241m=\u001b[39m get_clean_filename(path)\n\u001b[1;32m---> 72\u001b[0m     \u001b[38;5;28;01mreturn\u001b[39;00m \u001b[43mRasterioFileTileSource\u001b[49m\u001b[43m(\u001b[49m\u001b[38;5;28;43mstr\u001b[39;49m\u001b[43m(\u001b[49m\u001b[43mpath\u001b[49m\u001b[43m)\u001b[49m\u001b[43m,\u001b[49m\u001b[43m \u001b[49m\u001b[43mprojection\u001b[49m\u001b[38;5;241;43m=\u001b[39;49m\u001b[43mprojection\u001b[49m\u001b[43m,\u001b[49m\u001b[43m \u001b[49m\u001b[43mstyle\u001b[49m\u001b[38;5;241;43m=\u001b[39;49m\u001b[43mstyle\u001b[49m\u001b[43m,\u001b[49m\u001b[43m \u001b[49m\u001b[43mencoding\u001b[49m\u001b[38;5;241;43m=\u001b[39;49m\u001b[43mencoding\u001b[49m\u001b[43m)\u001b[49m\n",
      "File \u001b[1;32m~\\anaconda3\\envs\\gpuaml\\lib\\site-packages\\large_image\\cache_util\\cache.py:227\u001b[0m, in \u001b[0;36mLruCacheMetaclass.__call__\u001b[1;34m(cls, *args, **kwargs)\u001b[0m\n\u001b[0;32m    225\u001b[0m         \u001b[38;5;28;01mexcept\u001b[39;00m \u001b[38;5;167;01mException\u001b[39;00m:\n\u001b[0;32m    226\u001b[0m             \u001b[38;5;28;01mpass\u001b[39;00m\n\u001b[1;32m--> 227\u001b[0m     \u001b[38;5;28;01mraise\u001b[39;00m exc\n\u001b[0;32m    228\u001b[0m instance\u001b[38;5;241m.\u001b[39m_classkey \u001b[38;5;241m=\u001b[39m key\n\u001b[0;32m    229\u001b[0m \u001b[38;5;28;01mwith\u001b[39;00m cacheLock:\n",
      "File \u001b[1;32m~\\anaconda3\\envs\\gpuaml\\lib\\site-packages\\large_image\\cache_util\\cache.py:218\u001b[0m, in \u001b[0;36mLruCacheMetaclass.__call__\u001b[1;34m(cls, *args, **kwargs)\u001b[0m\n\u001b[0;32m    216\u001b[0m         \u001b[38;5;28;01mreturn\u001b[39;00m result\n\u001b[0;32m    217\u001b[0m \u001b[38;5;28;01mtry\u001b[39;00m:\n\u001b[1;32m--> 218\u001b[0m     instance \u001b[38;5;241m=\u001b[39m \u001b[38;5;28msuper\u001b[39m()\u001b[38;5;241m.\u001b[39m\u001b[38;5;21m__call__\u001b[39m(\u001b[38;5;241m*\u001b[39margs, \u001b[38;5;241m*\u001b[39m\u001b[38;5;241m*\u001b[39mkwargs)\n\u001b[0;32m    219\u001b[0m     \u001b[38;5;66;03m# for pickling\u001b[39;00m\n\u001b[0;32m    220\u001b[0m     instance\u001b[38;5;241m.\u001b[39m_initValues \u001b[38;5;241m=\u001b[39m (args, kwargs\u001b[38;5;241m.\u001b[39mcopy())\n",
      "File \u001b[1;32m~\\anaconda3\\envs\\gpuaml\\lib\\site-packages\\large_image_source_rasterio\\__init__.py:136\u001b[0m, in \u001b[0;36mRasterioFileTileSource.__init__\u001b[1;34m(self, path, projection, unitsPerPixel, **kwargs)\u001b[0m\n\u001b[0;32m    129\u001b[0m     \u001b[38;5;28mself\u001b[39m\u001b[38;5;241m.\u001b[39msourceSizeY \u001b[38;5;241m=\u001b[39m \u001b[38;5;28mself\u001b[39m\u001b[38;5;241m.\u001b[39msizeY \u001b[38;5;241m=\u001b[39m \u001b[38;5;28mself\u001b[39m\u001b[38;5;241m.\u001b[39mdataset\u001b[38;5;241m.\u001b[39mheight\n\u001b[0;32m    131\u001b[0m \u001b[38;5;66;03m# netCDF is blacklisted from rasterio so it won't be used.\u001b[39;00m\n\u001b[0;32m    132\u001b[0m \u001b[38;5;66;03m# use the mapnik source if needed. This variable is always ignored\u001b[39;00m\n\u001b[0;32m    133\u001b[0m \u001b[38;5;66;03m# is_netcdf = False\u001b[39;00m\n\u001b[0;32m    134\u001b[0m \n\u001b[0;32m    135\u001b[0m \u001b[38;5;66;03m# get the different scales and projections from the image\u001b[39;00m\n\u001b[1;32m--> 136\u001b[0m scale \u001b[38;5;241m=\u001b[39m \u001b[38;5;28;43mself\u001b[39;49m\u001b[38;5;241;43m.\u001b[39;49m\u001b[43mgetPixelSizeInMeters\u001b[49m\u001b[43m(\u001b[49m\u001b[43m)\u001b[49m\n\u001b[0;32m    138\u001b[0m \u001b[38;5;66;03m# raise an error if we are missing some information about the projection\u001b[39;00m\n\u001b[0;32m    139\u001b[0m \u001b[38;5;66;03m# i.e. we don't know where to place it on a map\u001b[39;00m\n\u001b[0;32m    140\u001b[0m isProjected \u001b[38;5;241m=\u001b[39m \u001b[38;5;28mself\u001b[39m\u001b[38;5;241m.\u001b[39mprojection \u001b[38;5;129;01mor\u001b[39;00m \u001b[38;5;28mself\u001b[39m\u001b[38;5;241m.\u001b[39mdataset\u001b[38;5;241m.\u001b[39mdriver\u001b[38;5;241m.\u001b[39mlower() \u001b[38;5;129;01min\u001b[39;00m {\u001b[38;5;124m'\u001b[39m\u001b[38;5;124mpng\u001b[39m\u001b[38;5;124m'\u001b[39m}\n",
      "File \u001b[1;32m~\\anaconda3\\envs\\gpuaml\\lib\\site-packages\\large_image\\tilesource\\geo.py:230\u001b[0m, in \u001b[0;36mGDALBaseFileTileSource.getPixelSizeInMeters\u001b[1;34m(self)\u001b[0m\n\u001b[0;32m    223\u001b[0m \u001b[38;5;28;01mdef\u001b[39;00m \u001b[38;5;21mgetPixelSizeInMeters\u001b[39m(\u001b[38;5;28mself\u001b[39m):\n\u001b[0;32m    224\u001b[0m \u001b[38;5;250m    \u001b[39m\u001b[38;5;124;03m\"\"\"\u001b[39;00m\n\u001b[0;32m    225\u001b[0m \u001b[38;5;124;03m    Get the approximate base pixel size in meters.  This is calculated as\u001b[39;00m\n\u001b[0;32m    226\u001b[0m \u001b[38;5;124;03m    the average scale of the four edges in the WGS84 ellipsoid.\u001b[39;00m\n\u001b[0;32m    227\u001b[0m \n\u001b[0;32m    228\u001b[0m \u001b[38;5;124;03m    :returns: the pixel size in meters or None.\u001b[39;00m\n\u001b[0;32m    229\u001b[0m \u001b[38;5;124;03m    \"\"\"\u001b[39;00m\n\u001b[1;32m--> 230\u001b[0m     bounds \u001b[38;5;241m=\u001b[39m \u001b[38;5;28;43mself\u001b[39;49m\u001b[38;5;241;43m.\u001b[39;49m\u001b[43mgetBounds\u001b[49m\u001b[43m(\u001b[49m\u001b[43mNeededInitPrefix\u001b[49m\u001b[43m \u001b[49m\u001b[38;5;241;43m+\u001b[39;49m\u001b[43m \u001b[49m\u001b[38;5;124;43m'\u001b[39;49m\u001b[38;5;124;43mepsg:4326\u001b[39;49m\u001b[38;5;124;43m'\u001b[39;49m\u001b[43m)\u001b[49m\n\u001b[0;32m    231\u001b[0m     \u001b[38;5;28;01mif\u001b[39;00m \u001b[38;5;129;01mnot\u001b[39;00m bounds:\n\u001b[0;32m    232\u001b[0m         \u001b[38;5;28;01mreturn\u001b[39;00m\n",
      "File \u001b[1;32m~\\anaconda3\\envs\\gpuaml\\lib\\site-packages\\large_image_source_rasterio\\__init__.py:339\u001b[0m, in \u001b[0;36mRasterioFileTileSource.getBounds\u001b[1;34m(self, crs, **kwargs)\u001b[0m\n\u001b[0;32m    336\u001b[0m     crs \u001b[38;5;241m=\u001b[39m kwargs\u001b[38;5;241m.\u001b[39mget(\u001b[38;5;124m'\u001b[39m\u001b[38;5;124msrs\u001b[39m\u001b[38;5;124m'\u001b[39m)\n\u001b[0;32m    338\u001b[0m \u001b[38;5;66;03m# read the crs as a crs if needed\u001b[39;00m\n\u001b[1;32m--> 339\u001b[0m dstCrs \u001b[38;5;241m=\u001b[39m \u001b[43mmake_crs\u001b[49m\u001b[43m(\u001b[49m\u001b[43mcrs\u001b[49m\u001b[43m)\u001b[49m \u001b[38;5;28;01mif\u001b[39;00m crs \u001b[38;5;28;01melse\u001b[39;00m \u001b[38;5;28;01mNone\u001b[39;00m\n\u001b[0;32m    340\u001b[0m strDstCrs \u001b[38;5;241m=\u001b[39m \u001b[38;5;124m'\u001b[39m\u001b[38;5;124mnone\u001b[39m\u001b[38;5;124m'\u001b[39m \u001b[38;5;28;01mif\u001b[39;00m dstCrs \u001b[38;5;129;01mis\u001b[39;00m \u001b[38;5;28;01mNone\u001b[39;00m \u001b[38;5;28;01melse\u001b[39;00m dstCrs\u001b[38;5;241m.\u001b[39mto_string()\n\u001b[0;32m    342\u001b[0m \u001b[38;5;66;03m# exit if it's already set\u001b[39;00m\n",
      "File \u001b[1;32m~\\anaconda3\\envs\\gpuaml\\lib\\site-packages\\large_image_source_rasterio\\__init__.py:63\u001b[0m, in \u001b[0;36mmake_crs\u001b[1;34m(projection)\u001b[0m\n\u001b[0;32m     61\u001b[0m \u001b[38;5;28;01mdef\u001b[39;00m \u001b[38;5;21mmake_crs\u001b[39m(projection):\n\u001b[0;32m     62\u001b[0m     \u001b[38;5;28;01mif\u001b[39;00m \u001b[38;5;28misinstance\u001b[39m(projection, \u001b[38;5;28mstr\u001b[39m):\n\u001b[1;32m---> 63\u001b[0m         \u001b[38;5;28;01mreturn\u001b[39;00m \u001b[43mrio\u001b[49m\u001b[38;5;241;43m.\u001b[39;49m\u001b[43mCRS\u001b[49m\u001b[38;5;241;43m.\u001b[39;49m\u001b[43mfrom_string\u001b[49m\u001b[43m(\u001b[49m\u001b[43mprojection\u001b[49m\u001b[43m)\u001b[49m\n\u001b[0;32m     64\u001b[0m     \u001b[38;5;28;01mif\u001b[39;00m \u001b[38;5;28misinstance\u001b[39m(projection, \u001b[38;5;28mdict\u001b[39m):\n\u001b[0;32m     65\u001b[0m         \u001b[38;5;28;01mreturn\u001b[39;00m rio\u001b[38;5;241m.\u001b[39mCRS\u001b[38;5;241m.\u001b[39mfrom_dict(projection)\n",
      "File \u001b[1;32mrasterio\\crs.pyx:842\u001b[0m, in \u001b[0;36mrasterio.crs.CRS.from_string\u001b[1;34m()\u001b[0m\n",
      "File \u001b[1;32mrasterio\\crs.pyx:590\u001b[0m, in \u001b[0;36mrasterio.crs.CRS.from_epsg\u001b[1;34m()\u001b[0m\n",
      "\u001b[1;31mCRSError\u001b[0m: The EPSG code is unknown. PROJ: proj_create_from_database: C:\\Users\\deepe\\anaconda3\\envs\\gpuaml\\Library\\share\\proj\\proj.db lacks DATABASE.LAYOUT.VERSION.MAJOR / DATABASE.LAYOUT.VERSION.MINOR metadata. It comes from another PROJ installation."
     ]
    }
   ],
   "source": []
  },
  {
   "cell_type": "code",
   "execution_count": null,
   "id": "2f9e061b",
   "metadata": {},
   "outputs": [],
   "source": []
  }
 ],
 "metadata": {
  "kernelspec": {
   "display_name": "Python 3 (ipykernel)",
   "language": "python",
   "name": "python3"
  },
  "language_info": {
   "codemirror_mode": {
    "name": "ipython",
    "version": 3
   },
   "file_extension": ".py",
   "mimetype": "text/x-python",
   "name": "python",
   "nbconvert_exporter": "python",
   "pygments_lexer": "ipython3",
   "version": "3.9.0"
  }
 },
 "nbformat": 4,
 "nbformat_minor": 5
}
